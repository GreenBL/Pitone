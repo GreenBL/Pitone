{
 "cells": [
  {
   "cell_type": "markdown",
   "metadata": {},
   "source": [
    "### 1\n",
    "Quale output restituisce la sequente funzione fornendo in input la propria matricola?"
   ]
  },
  {
   "cell_type": "code",
   "execution_count": 16,
   "metadata": {},
   "outputs": [],
   "source": [
    "def func8(matricola):\n",
    "    x = [int(i) for i in matricola] # mat = [0,7,3,1,4,4,9]\n",
    "    y = [int(matricola[i]) for i in range(len(matricola) -1, -1, -1)] # range = [6, 5, 4, 3, 2, 1, 0]\n",
    "    # y = [9,4,4,1,3,7,0]\n",
    "    count = 0\n",
    "    for idx in range(len(x)): # 0,7,3,1,4,4,9\n",
    "        if x[idx] == y[idx]:  # 9,4,4,1,3,7,0\n",
    "            count += 1 # 1\n",
    "    return (count + 2) % 4 # 3/4 = 0 con resto di 3"
   ]
  },
  {
   "cell_type": "markdown",
   "metadata": {},
   "source": [
    "+ 0\n",
    "+ 1\n",
    "+ 2\n",
    "+ 3 GIUSTA"
   ]
  },
  {
   "cell_type": "code",
   "execution_count": 18,
   "metadata": {},
   "outputs": [
    {
     "name": "stdout",
     "output_type": "stream",
     "text": [
      "3\n"
     ]
    }
   ],
   "source": [
    "print(str(func8(\"0731449\")))"
   ]
  },
  {
   "cell_type": "markdown",
   "metadata": {},
   "source": [
    "### 2\n",
    "Si supponga di creare un oggetto della classe Studente con i propri dati in input. indicare l'output dell'invocazione del metodo func9 sull'oggetto creato."
   ]
  },
  {
   "cell_type": "code",
   "execution_count": 19,
   "metadata": {},
   "outputs": [],
   "source": [
    "class Studente:\n",
    "    \n",
    "    def __init__(self, nome, cognome, matricola):\n",
    "        self.data = {\n",
    "            'nome' : nome,\n",
    "            'cognome' : cognome,\n",
    "            'matricola' : matricola # \"0731449\"\n",
    "        }\n",
    "\n",
    "    def func9(self):\n",
    "        n = int(self.data['matricola'][-2]) #4\n",
    "        x = 3\n",
    "        if '2' in self.data['matricola']:\n",
    "            x += 2\n",
    "        if '8' in self.data['matricola']:\n",
    "            x += 5\n",
    "        return (n + x) % 4 # 3"
   ]
  },
  {
   "cell_type": "markdown",
   "metadata": {},
   "source": [
    "+ 0\n",
    "+ 1\n",
    "+ 2\n",
    "+ 3 corretto"
   ]
  },
  {
   "cell_type": "code",
   "execution_count": 20,
   "metadata": {},
   "outputs": [
    {
     "name": "stdout",
     "output_type": "stream",
     "text": [
      "3\n"
     ]
    }
   ],
   "source": [
    "me = Studente(\"Riccardo\", \"Parisi\", \"0731449\")\n",
    "print(me.func9())"
   ]
  },
  {
   "cell_type": "markdown",
   "metadata": {},
   "source": [
    "### 3\n",
    "Capire che cosa fa questa roba fornendo la matricola."
   ]
  },
  {
   "cell_type": "code",
   "execution_count": 21,
   "metadata": {},
   "outputs": [],
   "source": [
    "def func3(matricola):\n",
    "    if int(matricola) % 2 == 0: # 731_449\n",
    "        result = 0\n",
    "        for x in matricola:\n",
    "            if int(x) > result:\n",
    "                result = int(x)\n",
    "    else:\n",
    "        result = 9 #0\n",
    "        for x in matricola: # 0,7,3,1,4,4,9\n",
    "            if int(x) < result:\n",
    "                result = int(x)\n",
    "    return result % 4 # 0 / 4 = 0 # RESTO 0\n",
    "# RISULTATO = 0"
   ]
  },
  {
   "cell_type": "markdown",
   "metadata": {},
   "source": [
    "+ 0 corretto\n",
    "+ 1\n",
    "+ 2\n",
    "+ 3"
   ]
  },
  {
   "cell_type": "code",
   "execution_count": 22,
   "metadata": {},
   "outputs": [
    {
     "name": "stdout",
     "output_type": "stream",
     "text": [
      "0\n"
     ]
    }
   ],
   "source": [
    "print(func3(\"0731449\"))"
   ]
  },
  {
   "cell_type": "markdown",
   "metadata": {},
   "source": [
    "### 4\n",
    "Quale output restituisce la seguente funzione fornendo in input la propria matricola?"
   ]
  },
  {
   "cell_type": "code",
   "execution_count": 23,
   "metadata": {},
   "outputs": [],
   "source": [
    "def func1(matricola):\n",
    "    x = [i for i in matricola[0:-2]]\n",
    "    y = x[-3]\n",
    "    z = int(y) % 4 # 3 % 4 = 3\n",
    "    return z"
   ]
  },
  {
   "cell_type": "markdown",
   "metadata": {},
   "source": [
    "+ 0\n",
    "+ 1\n",
    "+ 2\n",
    "+ 3 CORRETTO"
   ]
  },
  {
   "cell_type": "code",
   "execution_count": 24,
   "metadata": {},
   "outputs": [
    {
     "name": "stdout",
     "output_type": "stream",
     "text": [
      "3\n"
     ]
    }
   ],
   "source": [
    "print(func1(\"0731449\"))"
   ]
  },
  {
   "cell_type": "markdown",
   "metadata": {},
   "source": [
    "### 5\n",
    "La classe StudenteTriennale è una classe figlia della classe Studente dell'esercizio precedente. Si supponga di creare un oggetto della classe StudenteTriennale con i propri dati in input. Indicare l'output dell'invocazione del metodo func10 sull'oggetto creato."
   ]
  },
  {
   "cell_type": "code",
   "execution_count": 12,
   "metadata": {},
   "outputs": [],
   "source": [
    "class StudenteTriennale(Studente):\n",
    "    \n",
    "    def __init__(self, nome, cognome, matricola):\n",
    "        super().__init__(nome, cognome, matricola)\n",
    "        self.flag = False\n",
    "\n",
    "        if '1' in self.data['matricola']:\n",
    "            self.flag = not self.flag\n",
    "        if '9' in self.data['matricola']:\n",
    "            self.flag = not self.flag # FALSE\n",
    "\n",
    "    def func10(self):\n",
    "        x = int(self.data['matricola'][-1]) # 9\n",
    "        if self.flag:\n",
    "            return (x * 2) % 4\n",
    "        else :\n",
    "            return (x + 5) % 4 # 9 + 5 / 4 = 14 / 4 = 2\n",
    "        # RISULTATO 2"
   ]
  },
  {
   "cell_type": "markdown",
   "metadata": {},
   "source": [
    "+ 0\n",
    "+ 1\n",
    "+ 2 CORRETTO\n",
    "+ 3"
   ]
  },
  {
   "cell_type": "code",
   "execution_count": 26,
   "metadata": {},
   "outputs": [
    {
     "name": "stdout",
     "output_type": "stream",
     "text": [
      "2\n"
     ]
    }
   ],
   "source": [
    "io = StudenteTriennale(\"Riccardo\", \"Parisi\", \"0731449\")\n",
    "test = io.func10()\n",
    "print(test)"
   ]
  },
  {
   "cell_type": "markdown",
   "metadata": {},
   "source": [
    "### 6\n",
    "Quale output restituisce la seguente funzione fornendo in input la propria matricola?"
   ]
  },
  {
   "cell_type": "code",
   "execution_count": 27,
   "metadata": {},
   "outputs": [],
   "source": [
    "def func4(matricola):\n",
    "    num = int(matricola[1:3]) # 0,7,3,1,4,4,9\n",
    "    n = 0\n",
    "    while num > 0:\n",
    "        a = num % 10 # resto 3 # resto 7\n",
    "        num = num - a # 70 # 7 -7 = 0\n",
    "        num = num // 10 # 7 # 0\n",
    "        n = n * 10 + a # 3 # 30 + 7 = 37\n",
    "    return n % 4 # 37 / 4 = 9 con resto GIUSTO"
   ]
  },
  {
   "cell_type": "markdown",
   "metadata": {},
   "source": [
    "+ 0\n",
    "+ 1 GIUSTO\n",
    "+ 2\n",
    "+ 3 "
   ]
  },
  {
   "cell_type": "code",
   "execution_count": 28,
   "metadata": {},
   "outputs": [
    {
     "name": "stdout",
     "output_type": "stream",
     "text": [
      "1\n"
     ]
    }
   ],
   "source": [
    "print(func4(\"0731449\"))"
   ]
  },
  {
   "cell_type": "markdown",
   "metadata": {},
   "source": [
    "### 7\n",
    "La seguente funzione elabora la propria matricola passata in ingresso restituendo una lista contenente tutte le cifre originarie moltiplicate per 4.\n",
    "Sostituire i tre diversi frammenti, ?, ??. e ???, affinché la funzione raggiunga il suo scopo."
   ]
  },
  {
   "cell_type": "code",
   "execution_count": 30,
   "metadata": {},
   "outputs": [
    {
     "data": {
      "text/plain": [
       "[0, 28, 12, 4, 16, 16, 36]"
      ]
     },
     "execution_count": 30,
     "metadata": {},
     "output_type": "execute_result"
    }
   ],
   "source": [
    "def func2(matricola):\n",
    "    x = [int(digit) * 4 for digit in matricola]\n",
    "    return x\n",
    "\n",
    "func2(\"0731449\")"
   ]
  },
  {
   "cell_type": "markdown",
   "metadata": {},
   "source": [
    "+ ? = matricola * 4; ?? = i; ??? = matricola\n",
    "+ ? = cifre * 4; ?? = matricola; ??? = studente\n",
    "+ int(i) * 4; ?? = i; ??? = matricola CORRETTA\n",
    "+ Nessuna delle altre risposte"
   ]
  },
  {
   "cell_type": "markdown",
   "metadata": {},
   "source": [
    "### 8\n",
    "La seguente funzione riceve in ingresso un percorso completo ad un file di testo, e conta quante volte ogni singola lettera appaia nel file. Sostituire i tre diversi frammenti, ? , ??, e ???, affinché la funzione raggiunga il suo scopo."
   ]
  },
  {
   "cell_type": "code",
   "execution_count": 32,
   "metadata": {},
   "outputs": [
    {
     "name": "stdout",
     "output_type": "stream",
     "text": [
      "{'H': 1, 'e': 1, 'l': 3, 'o': 2, ',': 1, 'W': 1, 'r': 1, 'd': 1, '!': 1}\n"
     ]
    }
   ],
   "source": [
    "def func5(filename):\n",
    "    letters_count = dict()\n",
    "    with open(filename, 'r') as f:\n",
    "        for line in f:\n",
    "            l = line.rstrip()\n",
    "            words = l.split(' ')\n",
    "            for word in words:\n",
    "                for letter in word:\n",
    "                    if not letter in letters_count:\n",
    "                        letters_count[letter] = 1\n",
    "                    else: \n",
    "                        letters_count[letter] += 1\n",
    "    return letters_count\n",
    "\n",
    "with open(\"es8.txt\", 'w') as f:\n",
    "    print(\"Hello, World!\", file=f)\n",
    "\n",
    "print(str(func5(\"es8.txt\")))"
   ]
  },
  {
   "cell_type": "markdown",
   "metadata": {},
   "source": [
    "+ line, filename, if letter in letters_count\n",
    "+ line, filename, if not letter in letters_count\n",
    "+ open, file, if found\n",
    "+ Nessuna NESSUNA PERCHE' ERRORE NEL ??, CI VA f NON filename"
   ]
  },
  {
   "cell_type": "markdown",
   "metadata": {},
   "source": [
    "### 9\n",
    "Quale output restituisce la seguente funzione fornendo in input la propria matricola?"
   ]
  },
  {
   "cell_type": "code",
   "execution_count": 34,
   "metadata": {},
   "outputs": [
    {
     "name": "stdout",
     "output_type": "stream",
     "text": [
      "('Esercizi', 'due')\n"
     ]
    }
   ],
   "source": [
    "def func6(matricola):\n",
    "    mydict = {\n",
    "        \"corso\" : \"Python\",\n",
    "        \"tipo\" : \"Esercizi\",\n",
    "        \"anno\" : 2022,\n",
    "        \"lezione\": [\"uno\", \"due\", \"tre\"]\n",
    "    }\n",
    "\n",
    "    list1 = [\"corso\", \"tipo\", \"anno\", \"lezione\"]\n",
    "    return(mydict[list1[int(matricola[6])%2]], mydict[list1[3]][1])\n",
    "\n",
    "print(func6(\"0731449\"))"
   ]
  },
  {
   "cell_type": "markdown",
   "metadata": {},
   "source": [
    "+ Esercizi, due\n",
    "+ Python, due\n",
    "+ 2022, due\n",
    "+ Nessuna"
   ]
  },
  {
   "cell_type": "markdown",
   "metadata": {},
   "source": [
    "### 10\n",
    "Quale output restituisce la seguente funzione fornendo in input la propria matricola?"
   ]
  },
  {
   "cell_type": "code",
   "execution_count": 40,
   "metadata": {},
   "outputs": [
    {
     "name": "stdout",
     "output_type": "stream",
     "text": [
      "2\n"
     ]
    }
   ],
   "source": [
    "def func7(matricola):\n",
    "    lista = [1, 4, 5, 7, 8, 9]\n",
    "    x = int(matricola[6]) # 9\n",
    "    basso = 0\n",
    "    alto = len(lista) - 1 # 5\n",
    "\n",
    "    while basso <= alto:\n",
    "        medio = (alto + basso) // 2 # 2 # 8 / 2 = !4! medio #5\n",
    "        if lista[medio] < x: # 5 < 9 # 8 < 9\n",
    "            basso = medio + 1 # basso = 3 # 5\n",
    "        elif lista[medio] > x: #\n",
    "            alto = medio - 1 #\n",
    "        else:\n",
    "            return medio % 3 # 5 / 3 = 1 con resto di 2\n",
    "\n",
    "    return -1\n",
    "\n",
    "print(func7(\"0731449\"))"
   ]
  },
  {
   "cell_type": "markdown",
   "metadata": {},
   "source": [
    "+ 0\n",
    "+ 1\n",
    "+ 2\n",
    "+ -1 CORRETTO"
   ]
  }
 ],
 "metadata": {
  "kernelspec": {
   "display_name": ".venv",
   "language": "python",
   "name": "python3"
  },
  "language_info": {
   "codemirror_mode": {
    "name": "ipython",
    "version": 3
   },
   "file_extension": ".py",
   "mimetype": "text/x-python",
   "name": "python",
   "nbconvert_exporter": "python",
   "pygments_lexer": "ipython3",
   "version": "3.12.1"
  }
 },
 "nbformat": 4,
 "nbformat_minor": 2
}
